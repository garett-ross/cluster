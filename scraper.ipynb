{
 "cells": [
  {
   "cell_type": "code",
   "execution_count": 6,
   "metadata": {},
   "outputs": [],
   "source": [
    "import requests\n",
    "from bs4 import BeautifulSoup\n",
    "import pandas as pd\n",
    "import nltk\n",
    "from nltk.tokenize import word_tokenize\n",
    "from nltk.corpus import stopwords\n",
    "from sklearn.feature_extraction.text import TfidfVectorizer\n",
    "from sklearn.manifold import TSNE\n",
    "import plotly.express as px"
   ]
  },
  {
   "cell_type": "code",
   "execution_count": 7,
   "metadata": {},
   "outputs": [
    {
     "name": "stderr",
     "output_type": "stream",
     "text": [
      "[nltk_data] Downloading package punkt to /home/codespace/nltk_data...\n",
      "[nltk_data]   Package punkt is already up-to-date!\n",
      "[nltk_data] Downloading package stopwords to\n",
      "[nltk_data]     /home/codespace/nltk_data...\n",
      "[nltk_data]   Package stopwords is already up-to-date!\n"
     ]
    },
    {
     "data": {
      "text/plain": [
       "True"
      ]
     },
     "execution_count": 7,
     "metadata": {},
     "output_type": "execute_result"
    }
   ],
   "source": [
    "nltk.download('punkt')\n",
    "nltk.download('stopwords')"
   ]
  },
  {
   "cell_type": "code",
   "execution_count": 8,
   "metadata": {},
   "outputs": [],
   "source": [
    "jobsite = \"https://realpython.github.io/fake-jobs/\""
   ]
  },
  {
   "cell_type": "code",
   "execution_count": 9,
   "metadata": {},
   "outputs": [],
   "source": [
    "#open the job listing page\n",
    "with requests.get(jobsite) as target:\n",
    "    soup = BeautifulSoup(target.content, 'html.parser')"
   ]
  },
  {
   "cell_type": "code",
   "execution_count": 10,
   "metadata": {},
   "outputs": [],
   "source": [
    "#locate all links related to the 'Apply' button and return as list\n",
    "tags = soup.find_all('a')\n",
    "targets = [tag['href'] for tag in tags if 'Apply' in tag]"
   ]
  },
  {
   "cell_type": "code",
   "execution_count": 11,
   "metadata": {},
   "outputs": [],
   "source": [
    "#parse each job add to list\n",
    "job_ads = []\n",
    "for target in targets:\n",
    "    with requests.get(target) as target:\n",
    "        soup = BeautifulSoup(target.content, 'html.parser')\n",
    "        #title, company, description, location, posted\n",
    "        title = soup.find_all('h1')[1].text\n",
    "        company = soup.find('h2').text\n",
    "        desc = soup.find_all('p')[1].text\n",
    "        location = soup.find_all('p')[2].text\n",
    "        date = soup.find_all('p')[3].text\n",
    "        job_ads.append((title, company, desc, location, date))"
   ]
  },
  {
   "cell_type": "code",
   "execution_count": 12,
   "metadata": {},
   "outputs": [],
   "source": [
    "df = pd.DataFrame(job_ads, columns=['Title','Company','Description','Location','Date'])"
   ]
  },
  {
   "cell_type": "code",
   "execution_count": 13,
   "metadata": {},
   "outputs": [],
   "source": [
    "#create functions for NLP feature engineering\n",
    "def remove_stopwords(tokens):\n",
    "    tokens = [token for token in tokens if token not in stopwords.words('english')]\n",
    "\n",
    "def tokenise(dataframe, series):\n",
    "    dataframe['Tokens'] = series.apply(word_tokenize)\n",
    "    dataframe['Tokens'].apply(remove_stopwords)\n",
    "\n",
    "    "
   ]
  },
  {
   "cell_type": "code",
   "execution_count": 14,
   "metadata": {},
   "outputs": [],
   "source": [
    "tokenise(df, df.Description)"
   ]
  },
  {
   "cell_type": "code",
   "execution_count": 15,
   "metadata": {},
   "outputs": [],
   "source": [
    "def vectorise(dataframe, series):\n",
    "    vectoriser = TfidfVectorizer()\n",
    "    X = vectoriser.fit_transform(series)\n",
    "    X_embedded = TSNE(n_components=2, init='random').fit_transform(X)\n",
    "    coords = pd.DataFrame(X_embedded, columns=['x','y'])\n",
    "    return coords\n",
    "    \n",
    "\n"
   ]
  },
  {
   "cell_type": "code",
   "execution_count": 16,
   "metadata": {},
   "outputs": [],
   "source": [
    "coords = vectorise(df, df.Description)"
   ]
  },
  {
   "cell_type": "code",
   "execution_count": 17,
   "metadata": {},
   "outputs": [],
   "source": [
    "processed_data = pd.concat([df,coords], axis=1)"
   ]
  },
  {
   "cell_type": "code",
   "execution_count": 22,
   "metadata": {},
   "outputs": [
    {
     "data": {
      "application/vnd.plotly.v1+json": {
       "config": {
        "plotlyServerURL": "https://plot.ly"
       },
       "data": [
        {
         "hovertemplate": "<b>%{hovertext}</b><br><br>x=%{x}<br>y=%{y}<extra></extra>",
         "hovertext": [
          "Senior Python Developer",
          "Energy engineer",
          "Legal executive",
          "Fitness centre manager",
          "Product manager",
          "Medical technical officer",
          "Physiological scientist",
          "Textile designer",
          "Television floor manager",
          "Waste management officer",
          "Software Engineer (Python)",
          "Interpreter",
          "Architect",
          "Meteorologist",
          "Audiological scientist",
          "English as a second language teacher",
          "Surgeon",
          "Equities trader",
          "Newspaper journalist",
          "Materials engineer",
          "Python Programmer (Entry-Level)",
          "Product/process development scientist",
          "Scientist, research (maths)",
          "Ecologist",
          "Materials engineer",
          "Historic buildings inspector/conservation officer",
          "Data scientist",
          "Psychiatrist",
          "Structural engineer",
          "Immigration officer",
          "Python Programmer (Entry-Level)",
          "Neurosurgeon",
          "Broadcast engineer",
          "Make",
          "Nurse, adult",
          "Air broker",
          "Editor, film/video",
          "Production assistant, radio",
          "Engineer, communications",
          "Sales executive",
          "Software Developer (Python)",
          "Futures trader",
          "Tour manager",
          "Cytogeneticist",
          "Designer, multimedia",
          "Trade union research officer",
          "Chemist, analytical",
          "Programmer, multimedia",
          "Engineer, broadcasting (operations)",
          "Teacher, primary school",
          "Python Developer",
          "Manufacturing systems engineer",
          "Producer, television/film/video",
          "Scientist, forensic",
          "Bonds trader",
          "Editorial assistant",
          "Photographer",
          "Retail banker",
          "Jewellery designer",
          "Ophthalmologist",
          "Back-End Web Developer (Python, Django)",
          "Licensed conveyancer",
          "Futures trader",
          "Counselling psychologist",
          "Insurance underwriter",
          "Engineer, automotive",
          "Producer, radio",
          "Dispensing optician",
          "Designer, fashion/clothing",
          "Chartered loss adjuster",
          "Back-End Web Developer (Python, Django)",
          "Forest/woodland manager",
          "Clinical cytogeneticist",
          "Print production planner",
          "Systems developer",
          "Graphic designer",
          "Writer",
          "Field seismologist",
          "Chief Strategy Officer",
          "Air cabin crew",
          "Python Programmer (Entry-Level)",
          "Warden/ranger",
          "Sports therapist",
          "Arts development officer",
          "Printmaker",
          "Health and safety adviser",
          "Manufacturing systems engineer",
          "Programmer, applications",
          "Medical physicist",
          "Media planner",
          "Software Developer (Python)",
          "Surveyor, land/geomatics",
          "Legal executive",
          "Librarian, academic",
          "Barrister",
          "Museum/gallery exhibitions officer",
          "Radiographer, diagnostic",
          "Database administrator",
          "Furniture designer",
          "Ship broker"
         ],
         "legendgroup": "",
         "marker": {
          "color": "#636efa",
          "symbol": "circle"
         },
         "mode": "markers",
         "name": "",
         "orientation": "v",
         "showlegend": false,
         "type": "scatter",
         "x": [
          -7.744497776031494,
          0.40323373675346375,
          1.9216848611831665,
          5.002356052398682,
          -0.6067699193954468,
          -2.372800588607788,
          -1.1394089460372925,
          -3.300938129425049,
          3.3031814098358154,
          -4.211725234985352,
          -6.7602739334106445,
          -0.053309518843889236,
          3.2149524688720703,
          1.7547621726989746,
          5.818714141845703,
          6.057432651519775,
          5.377145767211914,
          -2.1199471950531006,
          -0.7493935227394104,
          0.2922104001045227,
          -7.224774360656738,
          0.8468823432922363,
          3.718467950820923,
          4.814461708068848,
          -1.5791276693344116,
          0.4050004482269287,
          1.176723599433899,
          3.5979695320129395,
          5.422182083129883,
          -0.027603507041931152,
          -7.1228790283203125,
          2.0444366931915283,
          5.361821174621582,
          3.0252792835235596,
          2.0169589519500732,
          3.6869895458221436,
          -0.694077730178833,
          1.7026474475860596,
          1.8706414699554443,
          -1.2440533638000488,
          -8.013017654418945,
          0.9467440843582153,
          4.783545970916748,
          2.5837249755859375,
          -0.5560294985771179,
          4.0919694900512695,
          1.0697317123413086,
          3.2589614391326904,
          3.4664225578308105,
          1.5277388095855713,
          -7.267682075500488,
          -0.5255237221717834,
          2.1037590503692627,
          1.202249526977539,
          4.520899772644043,
          -2.342987298965454,
          4.169473171234131,
          6.759128570556641,
          2.8056139945983887,
          4.7493815422058105,
          -7.843180179595947,
          3.3417630195617676,
          -2.9311723709106445,
          2.6039419174194336,
          -1.8466817140579224,
          4.138462543487549,
          -0.932015061378479,
          -0.8216692805290222,
          2.7988121509552,
          -2.1184816360473633,
          -7.005866050720215,
          -2.966994285583496,
          -4.304913520812988,
          -1.1034579277038574,
          6.701797008514404,
          0.6962839961051941,
          5.915103912353516,
          0.08642485737800598,
          6.964170455932617,
          1.0606557130813599,
          -6.559258460998535,
          2.2009541988372803,
          6.566235065460205,
          4.5631513595581055,
          0.8846274614334106,
          2.3331186771392822,
          -1.2176843881607056,
          3.565300464630127,
          2.3481600284576416,
          -3.3923566341400146,
          -6.668430805206299,
          4.1634202003479,
          -0.8351821899414062,
          0.5813502669334412,
          -1.8617913722991943,
          5.138272285461426,
          4.081423282623291,
          1.7278940677642822,
          -3.5313303470611572,
          4.235408306121826
         ],
         "xaxis": "x",
         "y": [
          0.8967900276184082,
          -1.9250543117523193,
          -2.3638134002685547,
          2.39825177192688,
          -1.0422180891036987,
          -4.154317378997803,
          -3.1971397399902344,
          -4.339749336242676,
          5.356812953948975,
          -1.7891565561294556,
          0.6985188126564026,
          1.5990091562271118,
          5.51729154586792,
          2.4692933559417725,
          -0.5373584628105164,
          2.8092870712280273,
          -2.4951281547546387,
          -1.8660082817077637,
          4.082676887512207,
          -4.0408735275268555,
          2.0861213207244873,
          -5.345173358917236,
          1.0968793630599976,
          2.7853996753692627,
          -5.994184970855713,
          -4.164913654327393,
          1.323313593864441,
          0.5169381499290466,
          -3.1190850734710693,
          0.07645761221647263,
          0.08517858386039734,
          -6.114009857177734,
          3.7972187995910645,
          -4.111850738525391,
          -0.6264805197715759,
          -0.1650940179824829,
          3.1977715492248535,
          -3.497175693511963,
          4.294350624084473,
          1.081239104270935,
          1.1135389804840088,
          0.9849317073822021,
          1.793799638748169,
          0.9883381724357605,
          -1.9145233631134033,
          -4.519076824188232,
          -1.7623857259750366,
          -2.786701202392578,
          2.5734798908233643,
          -3.571186065673828,
          1.6207606792449951,
          1.4486719369888306,
          2.5549516677856445,
          -0.518907368183136,
          -1.1445143222808838,
          -1.5593122243881226,
          4.26733922958374,
          1.1681727170944214,
          -0.8021746277809143,
          -1.5171111822128296,
          1.8572115898132324,
          3.4353091716766357,
          1.2148529291152954,
          -6.19995641708374,
          2.806577205657959,
          -5.374776840209961,
          -4.950088024139404,
          -5.519293785095215,
          -0.9917343258857727,
          -0.9640355706214905,
          1.2333815097808838,
          1.292778730392456,
          -1.7751107215881348,
          -2.853135824203491,
          0.9436841011047363,
          -0.014945318922400475,
          -3.935662269592285,
          -2.300628185272217,
          -1.8285892009735107,
          -5.242523193359375,
          0.5546523332595825,
          -2.3266708850860596,
          -1.2674678564071655,
          0.19198840856552124,
          4.189242839813232,
          -4.929722309112549,
          -0.4751497209072113,
          -2.969295024871826,
          1.2408556938171387,
          0.10203736275434494,
          1.7354522943496704,
          3.6610653400421143,
          3.422259569168091,
          2.6495659351348877,
          0.3879822790622711,
          -0.22169584035873413,
          -4.7611083984375,
          4.116048336029053,
          -4.335859775543213,
          -2.2005248069763184
         ],
         "yaxis": "y"
        }
       ],
       "layout": {
        "legend": {
         "tracegroupgap": 0
        },
        "margin": {
         "t": 60
        },
        "template": {
         "data": {
          "bar": [
           {
            "error_x": {
             "color": "#2a3f5f"
            },
            "error_y": {
             "color": "#2a3f5f"
            },
            "marker": {
             "line": {
              "color": "#E5ECF6",
              "width": 0.5
             },
             "pattern": {
              "fillmode": "overlay",
              "size": 10,
              "solidity": 0.2
             }
            },
            "type": "bar"
           }
          ],
          "barpolar": [
           {
            "marker": {
             "line": {
              "color": "#E5ECF6",
              "width": 0.5
             },
             "pattern": {
              "fillmode": "overlay",
              "size": 10,
              "solidity": 0.2
             }
            },
            "type": "barpolar"
           }
          ],
          "carpet": [
           {
            "aaxis": {
             "endlinecolor": "#2a3f5f",
             "gridcolor": "white",
             "linecolor": "white",
             "minorgridcolor": "white",
             "startlinecolor": "#2a3f5f"
            },
            "baxis": {
             "endlinecolor": "#2a3f5f",
             "gridcolor": "white",
             "linecolor": "white",
             "minorgridcolor": "white",
             "startlinecolor": "#2a3f5f"
            },
            "type": "carpet"
           }
          ],
          "choropleth": [
           {
            "colorbar": {
             "outlinewidth": 0,
             "ticks": ""
            },
            "type": "choropleth"
           }
          ],
          "contour": [
           {
            "colorbar": {
             "outlinewidth": 0,
             "ticks": ""
            },
            "colorscale": [
             [
              0,
              "#0d0887"
             ],
             [
              0.1111111111111111,
              "#46039f"
             ],
             [
              0.2222222222222222,
              "#7201a8"
             ],
             [
              0.3333333333333333,
              "#9c179e"
             ],
             [
              0.4444444444444444,
              "#bd3786"
             ],
             [
              0.5555555555555556,
              "#d8576b"
             ],
             [
              0.6666666666666666,
              "#ed7953"
             ],
             [
              0.7777777777777778,
              "#fb9f3a"
             ],
             [
              0.8888888888888888,
              "#fdca26"
             ],
             [
              1,
              "#f0f921"
             ]
            ],
            "type": "contour"
           }
          ],
          "contourcarpet": [
           {
            "colorbar": {
             "outlinewidth": 0,
             "ticks": ""
            },
            "type": "contourcarpet"
           }
          ],
          "heatmap": [
           {
            "colorbar": {
             "outlinewidth": 0,
             "ticks": ""
            },
            "colorscale": [
             [
              0,
              "#0d0887"
             ],
             [
              0.1111111111111111,
              "#46039f"
             ],
             [
              0.2222222222222222,
              "#7201a8"
             ],
             [
              0.3333333333333333,
              "#9c179e"
             ],
             [
              0.4444444444444444,
              "#bd3786"
             ],
             [
              0.5555555555555556,
              "#d8576b"
             ],
             [
              0.6666666666666666,
              "#ed7953"
             ],
             [
              0.7777777777777778,
              "#fb9f3a"
             ],
             [
              0.8888888888888888,
              "#fdca26"
             ],
             [
              1,
              "#f0f921"
             ]
            ],
            "type": "heatmap"
           }
          ],
          "heatmapgl": [
           {
            "colorbar": {
             "outlinewidth": 0,
             "ticks": ""
            },
            "colorscale": [
             [
              0,
              "#0d0887"
             ],
             [
              0.1111111111111111,
              "#46039f"
             ],
             [
              0.2222222222222222,
              "#7201a8"
             ],
             [
              0.3333333333333333,
              "#9c179e"
             ],
             [
              0.4444444444444444,
              "#bd3786"
             ],
             [
              0.5555555555555556,
              "#d8576b"
             ],
             [
              0.6666666666666666,
              "#ed7953"
             ],
             [
              0.7777777777777778,
              "#fb9f3a"
             ],
             [
              0.8888888888888888,
              "#fdca26"
             ],
             [
              1,
              "#f0f921"
             ]
            ],
            "type": "heatmapgl"
           }
          ],
          "histogram": [
           {
            "marker": {
             "pattern": {
              "fillmode": "overlay",
              "size": 10,
              "solidity": 0.2
             }
            },
            "type": "histogram"
           }
          ],
          "histogram2d": [
           {
            "colorbar": {
             "outlinewidth": 0,
             "ticks": ""
            },
            "colorscale": [
             [
              0,
              "#0d0887"
             ],
             [
              0.1111111111111111,
              "#46039f"
             ],
             [
              0.2222222222222222,
              "#7201a8"
             ],
             [
              0.3333333333333333,
              "#9c179e"
             ],
             [
              0.4444444444444444,
              "#bd3786"
             ],
             [
              0.5555555555555556,
              "#d8576b"
             ],
             [
              0.6666666666666666,
              "#ed7953"
             ],
             [
              0.7777777777777778,
              "#fb9f3a"
             ],
             [
              0.8888888888888888,
              "#fdca26"
             ],
             [
              1,
              "#f0f921"
             ]
            ],
            "type": "histogram2d"
           }
          ],
          "histogram2dcontour": [
           {
            "colorbar": {
             "outlinewidth": 0,
             "ticks": ""
            },
            "colorscale": [
             [
              0,
              "#0d0887"
             ],
             [
              0.1111111111111111,
              "#46039f"
             ],
             [
              0.2222222222222222,
              "#7201a8"
             ],
             [
              0.3333333333333333,
              "#9c179e"
             ],
             [
              0.4444444444444444,
              "#bd3786"
             ],
             [
              0.5555555555555556,
              "#d8576b"
             ],
             [
              0.6666666666666666,
              "#ed7953"
             ],
             [
              0.7777777777777778,
              "#fb9f3a"
             ],
             [
              0.8888888888888888,
              "#fdca26"
             ],
             [
              1,
              "#f0f921"
             ]
            ],
            "type": "histogram2dcontour"
           }
          ],
          "mesh3d": [
           {
            "colorbar": {
             "outlinewidth": 0,
             "ticks": ""
            },
            "type": "mesh3d"
           }
          ],
          "parcoords": [
           {
            "line": {
             "colorbar": {
              "outlinewidth": 0,
              "ticks": ""
             }
            },
            "type": "parcoords"
           }
          ],
          "pie": [
           {
            "automargin": true,
            "type": "pie"
           }
          ],
          "scatter": [
           {
            "fillpattern": {
             "fillmode": "overlay",
             "size": 10,
             "solidity": 0.2
            },
            "type": "scatter"
           }
          ],
          "scatter3d": [
           {
            "line": {
             "colorbar": {
              "outlinewidth": 0,
              "ticks": ""
             }
            },
            "marker": {
             "colorbar": {
              "outlinewidth": 0,
              "ticks": ""
             }
            },
            "type": "scatter3d"
           }
          ],
          "scattercarpet": [
           {
            "marker": {
             "colorbar": {
              "outlinewidth": 0,
              "ticks": ""
             }
            },
            "type": "scattercarpet"
           }
          ],
          "scattergeo": [
           {
            "marker": {
             "colorbar": {
              "outlinewidth": 0,
              "ticks": ""
             }
            },
            "type": "scattergeo"
           }
          ],
          "scattergl": [
           {
            "marker": {
             "colorbar": {
              "outlinewidth": 0,
              "ticks": ""
             }
            },
            "type": "scattergl"
           }
          ],
          "scattermapbox": [
           {
            "marker": {
             "colorbar": {
              "outlinewidth": 0,
              "ticks": ""
             }
            },
            "type": "scattermapbox"
           }
          ],
          "scatterpolar": [
           {
            "marker": {
             "colorbar": {
              "outlinewidth": 0,
              "ticks": ""
             }
            },
            "type": "scatterpolar"
           }
          ],
          "scatterpolargl": [
           {
            "marker": {
             "colorbar": {
              "outlinewidth": 0,
              "ticks": ""
             }
            },
            "type": "scatterpolargl"
           }
          ],
          "scatterternary": [
           {
            "marker": {
             "colorbar": {
              "outlinewidth": 0,
              "ticks": ""
             }
            },
            "type": "scatterternary"
           }
          ],
          "surface": [
           {
            "colorbar": {
             "outlinewidth": 0,
             "ticks": ""
            },
            "colorscale": [
             [
              0,
              "#0d0887"
             ],
             [
              0.1111111111111111,
              "#46039f"
             ],
             [
              0.2222222222222222,
              "#7201a8"
             ],
             [
              0.3333333333333333,
              "#9c179e"
             ],
             [
              0.4444444444444444,
              "#bd3786"
             ],
             [
              0.5555555555555556,
              "#d8576b"
             ],
             [
              0.6666666666666666,
              "#ed7953"
             ],
             [
              0.7777777777777778,
              "#fb9f3a"
             ],
             [
              0.8888888888888888,
              "#fdca26"
             ],
             [
              1,
              "#f0f921"
             ]
            ],
            "type": "surface"
           }
          ],
          "table": [
           {
            "cells": {
             "fill": {
              "color": "#EBF0F8"
             },
             "line": {
              "color": "white"
             }
            },
            "header": {
             "fill": {
              "color": "#C8D4E3"
             },
             "line": {
              "color": "white"
             }
            },
            "type": "table"
           }
          ]
         },
         "layout": {
          "annotationdefaults": {
           "arrowcolor": "#2a3f5f",
           "arrowhead": 0,
           "arrowwidth": 1
          },
          "autotypenumbers": "strict",
          "coloraxis": {
           "colorbar": {
            "outlinewidth": 0,
            "ticks": ""
           }
          },
          "colorscale": {
           "diverging": [
            [
             0,
             "#8e0152"
            ],
            [
             0.1,
             "#c51b7d"
            ],
            [
             0.2,
             "#de77ae"
            ],
            [
             0.3,
             "#f1b6da"
            ],
            [
             0.4,
             "#fde0ef"
            ],
            [
             0.5,
             "#f7f7f7"
            ],
            [
             0.6,
             "#e6f5d0"
            ],
            [
             0.7,
             "#b8e186"
            ],
            [
             0.8,
             "#7fbc41"
            ],
            [
             0.9,
             "#4d9221"
            ],
            [
             1,
             "#276419"
            ]
           ],
           "sequential": [
            [
             0,
             "#0d0887"
            ],
            [
             0.1111111111111111,
             "#46039f"
            ],
            [
             0.2222222222222222,
             "#7201a8"
            ],
            [
             0.3333333333333333,
             "#9c179e"
            ],
            [
             0.4444444444444444,
             "#bd3786"
            ],
            [
             0.5555555555555556,
             "#d8576b"
            ],
            [
             0.6666666666666666,
             "#ed7953"
            ],
            [
             0.7777777777777778,
             "#fb9f3a"
            ],
            [
             0.8888888888888888,
             "#fdca26"
            ],
            [
             1,
             "#f0f921"
            ]
           ],
           "sequentialminus": [
            [
             0,
             "#0d0887"
            ],
            [
             0.1111111111111111,
             "#46039f"
            ],
            [
             0.2222222222222222,
             "#7201a8"
            ],
            [
             0.3333333333333333,
             "#9c179e"
            ],
            [
             0.4444444444444444,
             "#bd3786"
            ],
            [
             0.5555555555555556,
             "#d8576b"
            ],
            [
             0.6666666666666666,
             "#ed7953"
            ],
            [
             0.7777777777777778,
             "#fb9f3a"
            ],
            [
             0.8888888888888888,
             "#fdca26"
            ],
            [
             1,
             "#f0f921"
            ]
           ]
          },
          "colorway": [
           "#636efa",
           "#EF553B",
           "#00cc96",
           "#ab63fa",
           "#FFA15A",
           "#19d3f3",
           "#FF6692",
           "#B6E880",
           "#FF97FF",
           "#FECB52"
          ],
          "font": {
           "color": "#2a3f5f"
          },
          "geo": {
           "bgcolor": "white",
           "lakecolor": "white",
           "landcolor": "#E5ECF6",
           "showlakes": true,
           "showland": true,
           "subunitcolor": "white"
          },
          "hoverlabel": {
           "align": "left"
          },
          "hovermode": "closest",
          "mapbox": {
           "style": "light"
          },
          "paper_bgcolor": "white",
          "plot_bgcolor": "#E5ECF6",
          "polar": {
           "angularaxis": {
            "gridcolor": "white",
            "linecolor": "white",
            "ticks": ""
           },
           "bgcolor": "#E5ECF6",
           "radialaxis": {
            "gridcolor": "white",
            "linecolor": "white",
            "ticks": ""
           }
          },
          "scene": {
           "xaxis": {
            "backgroundcolor": "#E5ECF6",
            "gridcolor": "white",
            "gridwidth": 2,
            "linecolor": "white",
            "showbackground": true,
            "ticks": "",
            "zerolinecolor": "white"
           },
           "yaxis": {
            "backgroundcolor": "#E5ECF6",
            "gridcolor": "white",
            "gridwidth": 2,
            "linecolor": "white",
            "showbackground": true,
            "ticks": "",
            "zerolinecolor": "white"
           },
           "zaxis": {
            "backgroundcolor": "#E5ECF6",
            "gridcolor": "white",
            "gridwidth": 2,
            "linecolor": "white",
            "showbackground": true,
            "ticks": "",
            "zerolinecolor": "white"
           }
          },
          "shapedefaults": {
           "line": {
            "color": "#2a3f5f"
           }
          },
          "ternary": {
           "aaxis": {
            "gridcolor": "white",
            "linecolor": "white",
            "ticks": ""
           },
           "baxis": {
            "gridcolor": "white",
            "linecolor": "white",
            "ticks": ""
           },
           "bgcolor": "#E5ECF6",
           "caxis": {
            "gridcolor": "white",
            "linecolor": "white",
            "ticks": ""
           }
          },
          "title": {
           "x": 0.05
          },
          "xaxis": {
           "automargin": true,
           "gridcolor": "white",
           "linecolor": "white",
           "ticks": "",
           "title": {
            "standoff": 15
           },
           "zerolinecolor": "white",
           "zerolinewidth": 2
          },
          "yaxis": {
           "automargin": true,
           "gridcolor": "white",
           "linecolor": "white",
           "ticks": "",
           "title": {
            "standoff": 15
           },
           "zerolinecolor": "white",
           "zerolinewidth": 2
          }
         }
        },
        "xaxis": {
         "anchor": "y",
         "domain": [
          0,
          1
         ],
         "title": {
          "text": "x"
         }
        },
        "yaxis": {
         "anchor": "x",
         "domain": [
          0,
          1
         ],
         "title": {
          "text": "y"
         }
        }
       }
      },
      "text/html": [
       "<div>                            <div id=\"4f6987b0-dea3-4597-b1f9-c19f05a9168e\" class=\"plotly-graph-div\" style=\"height:525px; width:100%;\"></div>            <script type=\"text/javascript\">                require([\"plotly\"], function(Plotly) {                    window.PLOTLYENV=window.PLOTLYENV || {};                                    if (document.getElementById(\"4f6987b0-dea3-4597-b1f9-c19f05a9168e\")) {                    Plotly.newPlot(                        \"4f6987b0-dea3-4597-b1f9-c19f05a9168e\",                        [{\"hovertemplate\":\"\\u003cb\\u003e%{hovertext}\\u003c\\u002fb\\u003e\\u003cbr\\u003e\\u003cbr\\u003ex=%{x}\\u003cbr\\u003ey=%{y}\\u003cextra\\u003e\\u003c\\u002fextra\\u003e\",\"hovertext\":[\"Senior Python Developer\",\"Energy engineer\",\"Legal executive\",\"Fitness centre manager\",\"Product manager\",\"Medical technical officer\",\"Physiological scientist\",\"Textile designer\",\"Television floor manager\",\"Waste management officer\",\"Software Engineer (Python)\",\"Interpreter\",\"Architect\",\"Meteorologist\",\"Audiological scientist\",\"English as a second language teacher\",\"Surgeon\",\"Equities trader\",\"Newspaper journalist\",\"Materials engineer\",\"Python Programmer (Entry-Level)\",\"Product\\u002fprocess development scientist\",\"Scientist, research (maths)\",\"Ecologist\",\"Materials engineer\",\"Historic buildings inspector\\u002fconservation officer\",\"Data scientist\",\"Psychiatrist\",\"Structural engineer\",\"Immigration officer\",\"Python Programmer (Entry-Level)\",\"Neurosurgeon\",\"Broadcast engineer\",\"Make\",\"Nurse, adult\",\"Air broker\",\"Editor, film\\u002fvideo\",\"Production assistant, radio\",\"Engineer, communications\",\"Sales executive\",\"Software Developer (Python)\",\"Futures trader\",\"Tour manager\",\"Cytogeneticist\",\"Designer, multimedia\",\"Trade union research officer\",\"Chemist, analytical\",\"Programmer, multimedia\",\"Engineer, broadcasting (operations)\",\"Teacher, primary school\",\"Python Developer\",\"Manufacturing systems engineer\",\"Producer, television\\u002ffilm\\u002fvideo\",\"Scientist, forensic\",\"Bonds trader\",\"Editorial assistant\",\"Photographer\",\"Retail banker\",\"Jewellery designer\",\"Ophthalmologist\",\"Back-End Web Developer (Python, Django)\",\"Licensed conveyancer\",\"Futures trader\",\"Counselling psychologist\",\"Insurance underwriter\",\"Engineer, automotive\",\"Producer, radio\",\"Dispensing optician\",\"Designer, fashion\\u002fclothing\",\"Chartered loss adjuster\",\"Back-End Web Developer (Python, Django)\",\"Forest\\u002fwoodland manager\",\"Clinical cytogeneticist\",\"Print production planner\",\"Systems developer\",\"Graphic designer\",\"Writer\",\"Field seismologist\",\"Chief Strategy Officer\",\"Air cabin crew\",\"Python Programmer (Entry-Level)\",\"Warden\\u002franger\",\"Sports therapist\",\"Arts development officer\",\"Printmaker\",\"Health and safety adviser\",\"Manufacturing systems engineer\",\"Programmer, applications\",\"Medical physicist\",\"Media planner\",\"Software Developer (Python)\",\"Surveyor, land\\u002fgeomatics\",\"Legal executive\",\"Librarian, academic\",\"Barrister\",\"Museum\\u002fgallery exhibitions officer\",\"Radiographer, diagnostic\",\"Database administrator\",\"Furniture designer\",\"Ship broker\"],\"legendgroup\":\"\",\"marker\":{\"color\":\"#636efa\",\"symbol\":\"circle\"},\"mode\":\"markers\",\"name\":\"\",\"orientation\":\"v\",\"showlegend\":false,\"x\":[-7.744497776031494,0.40323373675346375,1.9216848611831665,5.002356052398682,-0.6067699193954468,-2.372800588607788,-1.1394089460372925,-3.300938129425049,3.3031814098358154,-4.211725234985352,-6.7602739334106445,-0.053309518843889236,3.2149524688720703,1.7547621726989746,5.818714141845703,6.057432651519775,5.377145767211914,-2.1199471950531006,-0.7493935227394104,0.2922104001045227,-7.224774360656738,0.8468823432922363,3.718467950820923,4.814461708068848,-1.5791276693344116,0.4050004482269287,1.176723599433899,3.5979695320129395,5.422182083129883,-0.027603507041931152,-7.1228790283203125,2.0444366931915283,5.361821174621582,3.0252792835235596,2.0169589519500732,3.6869895458221436,-0.694077730178833,1.7026474475860596,1.8706414699554443,-1.2440533638000488,-8.013017654418945,0.9467440843582153,4.783545970916748,2.5837249755859375,-0.5560294985771179,4.0919694900512695,1.0697317123413086,3.2589614391326904,3.4664225578308105,1.5277388095855713,-7.267682075500488,-0.5255237221717834,2.1037590503692627,1.202249526977539,4.520899772644043,-2.342987298965454,4.169473171234131,6.759128570556641,2.8056139945983887,4.7493815422058105,-7.843180179595947,3.3417630195617676,-2.9311723709106445,2.6039419174194336,-1.8466817140579224,4.138462543487549,-0.932015061378479,-0.8216692805290222,2.7988121509552,-2.1184816360473633,-7.005866050720215,-2.966994285583496,-4.304913520812988,-1.1034579277038574,6.701797008514404,0.6962839961051941,5.915103912353516,0.08642485737800598,6.964170455932617,1.0606557130813599,-6.559258460998535,2.2009541988372803,6.566235065460205,4.5631513595581055,0.8846274614334106,2.3331186771392822,-1.2176843881607056,3.565300464630127,2.3481600284576416,-3.3923566341400146,-6.668430805206299,4.1634202003479,-0.8351821899414062,0.5813502669334412,-1.8617913722991943,5.138272285461426,4.081423282623291,1.7278940677642822,-3.5313303470611572,4.235408306121826],\"xaxis\":\"x\",\"y\":[0.8967900276184082,-1.9250543117523193,-2.3638134002685547,2.39825177192688,-1.0422180891036987,-4.154317378997803,-3.1971397399902344,-4.339749336242676,5.356812953948975,-1.7891565561294556,0.6985188126564026,1.5990091562271118,5.51729154586792,2.4692933559417725,-0.5373584628105164,2.8092870712280273,-2.4951281547546387,-1.8660082817077637,4.082676887512207,-4.0408735275268555,2.0861213207244873,-5.345173358917236,1.0968793630599976,2.7853996753692627,-5.994184970855713,-4.164913654327393,1.323313593864441,0.5169381499290466,-3.1190850734710693,0.07645761221647263,0.08517858386039734,-6.114009857177734,3.7972187995910645,-4.111850738525391,-0.6264805197715759,-0.1650940179824829,3.1977715492248535,-3.497175693511963,4.294350624084473,1.081239104270935,1.1135389804840088,0.9849317073822021,1.793799638748169,0.9883381724357605,-1.9145233631134033,-4.519076824188232,-1.7623857259750366,-2.786701202392578,2.5734798908233643,-3.571186065673828,1.6207606792449951,1.4486719369888306,2.5549516677856445,-0.518907368183136,-1.1445143222808838,-1.5593122243881226,4.26733922958374,1.1681727170944214,-0.8021746277809143,-1.5171111822128296,1.8572115898132324,3.4353091716766357,1.2148529291152954,-6.19995641708374,2.806577205657959,-5.374776840209961,-4.950088024139404,-5.519293785095215,-0.9917343258857727,-0.9640355706214905,1.2333815097808838,1.292778730392456,-1.7751107215881348,-2.853135824203491,0.9436841011047363,-0.014945318922400475,-3.935662269592285,-2.300628185272217,-1.8285892009735107,-5.242523193359375,0.5546523332595825,-2.3266708850860596,-1.2674678564071655,0.19198840856552124,4.189242839813232,-4.929722309112549,-0.4751497209072113,-2.969295024871826,1.2408556938171387,0.10203736275434494,1.7354522943496704,3.6610653400421143,3.422259569168091,2.6495659351348877,0.3879822790622711,-0.22169584035873413,-4.7611083984375,4.116048336029053,-4.335859775543213,-2.2005248069763184],\"yaxis\":\"y\",\"type\":\"scatter\"}],                        {\"template\":{\"data\":{\"histogram2dcontour\":[{\"type\":\"histogram2dcontour\",\"colorbar\":{\"outlinewidth\":0,\"ticks\":\"\"},\"colorscale\":[[0.0,\"#0d0887\"],[0.1111111111111111,\"#46039f\"],[0.2222222222222222,\"#7201a8\"],[0.3333333333333333,\"#9c179e\"],[0.4444444444444444,\"#bd3786\"],[0.5555555555555556,\"#d8576b\"],[0.6666666666666666,\"#ed7953\"],[0.7777777777777778,\"#fb9f3a\"],[0.8888888888888888,\"#fdca26\"],[1.0,\"#f0f921\"]]}],\"choropleth\":[{\"type\":\"choropleth\",\"colorbar\":{\"outlinewidth\":0,\"ticks\":\"\"}}],\"histogram2d\":[{\"type\":\"histogram2d\",\"colorbar\":{\"outlinewidth\":0,\"ticks\":\"\"},\"colorscale\":[[0.0,\"#0d0887\"],[0.1111111111111111,\"#46039f\"],[0.2222222222222222,\"#7201a8\"],[0.3333333333333333,\"#9c179e\"],[0.4444444444444444,\"#bd3786\"],[0.5555555555555556,\"#d8576b\"],[0.6666666666666666,\"#ed7953\"],[0.7777777777777778,\"#fb9f3a\"],[0.8888888888888888,\"#fdca26\"],[1.0,\"#f0f921\"]]}],\"heatmap\":[{\"type\":\"heatmap\",\"colorbar\":{\"outlinewidth\":0,\"ticks\":\"\"},\"colorscale\":[[0.0,\"#0d0887\"],[0.1111111111111111,\"#46039f\"],[0.2222222222222222,\"#7201a8\"],[0.3333333333333333,\"#9c179e\"],[0.4444444444444444,\"#bd3786\"],[0.5555555555555556,\"#d8576b\"],[0.6666666666666666,\"#ed7953\"],[0.7777777777777778,\"#fb9f3a\"],[0.8888888888888888,\"#fdca26\"],[1.0,\"#f0f921\"]]}],\"heatmapgl\":[{\"type\":\"heatmapgl\",\"colorbar\":{\"outlinewidth\":0,\"ticks\":\"\"},\"colorscale\":[[0.0,\"#0d0887\"],[0.1111111111111111,\"#46039f\"],[0.2222222222222222,\"#7201a8\"],[0.3333333333333333,\"#9c179e\"],[0.4444444444444444,\"#bd3786\"],[0.5555555555555556,\"#d8576b\"],[0.6666666666666666,\"#ed7953\"],[0.7777777777777778,\"#fb9f3a\"],[0.8888888888888888,\"#fdca26\"],[1.0,\"#f0f921\"]]}],\"contourcarpet\":[{\"type\":\"contourcarpet\",\"colorbar\":{\"outlinewidth\":0,\"ticks\":\"\"}}],\"contour\":[{\"type\":\"contour\",\"colorbar\":{\"outlinewidth\":0,\"ticks\":\"\"},\"colorscale\":[[0.0,\"#0d0887\"],[0.1111111111111111,\"#46039f\"],[0.2222222222222222,\"#7201a8\"],[0.3333333333333333,\"#9c179e\"],[0.4444444444444444,\"#bd3786\"],[0.5555555555555556,\"#d8576b\"],[0.6666666666666666,\"#ed7953\"],[0.7777777777777778,\"#fb9f3a\"],[0.8888888888888888,\"#fdca26\"],[1.0,\"#f0f921\"]]}],\"surface\":[{\"type\":\"surface\",\"colorbar\":{\"outlinewidth\":0,\"ticks\":\"\"},\"colorscale\":[[0.0,\"#0d0887\"],[0.1111111111111111,\"#46039f\"],[0.2222222222222222,\"#7201a8\"],[0.3333333333333333,\"#9c179e\"],[0.4444444444444444,\"#bd3786\"],[0.5555555555555556,\"#d8576b\"],[0.6666666666666666,\"#ed7953\"],[0.7777777777777778,\"#fb9f3a\"],[0.8888888888888888,\"#fdca26\"],[1.0,\"#f0f921\"]]}],\"mesh3d\":[{\"type\":\"mesh3d\",\"colorbar\":{\"outlinewidth\":0,\"ticks\":\"\"}}],\"scatter\":[{\"fillpattern\":{\"fillmode\":\"overlay\",\"size\":10,\"solidity\":0.2},\"type\":\"scatter\"}],\"parcoords\":[{\"type\":\"parcoords\",\"line\":{\"colorbar\":{\"outlinewidth\":0,\"ticks\":\"\"}}}],\"scatterpolargl\":[{\"type\":\"scatterpolargl\",\"marker\":{\"colorbar\":{\"outlinewidth\":0,\"ticks\":\"\"}}}],\"bar\":[{\"error_x\":{\"color\":\"#2a3f5f\"},\"error_y\":{\"color\":\"#2a3f5f\"},\"marker\":{\"line\":{\"color\":\"#E5ECF6\",\"width\":0.5},\"pattern\":{\"fillmode\":\"overlay\",\"size\":10,\"solidity\":0.2}},\"type\":\"bar\"}],\"scattergeo\":[{\"type\":\"scattergeo\",\"marker\":{\"colorbar\":{\"outlinewidth\":0,\"ticks\":\"\"}}}],\"scatterpolar\":[{\"type\":\"scatterpolar\",\"marker\":{\"colorbar\":{\"outlinewidth\":0,\"ticks\":\"\"}}}],\"histogram\":[{\"marker\":{\"pattern\":{\"fillmode\":\"overlay\",\"size\":10,\"solidity\":0.2}},\"type\":\"histogram\"}],\"scattergl\":[{\"type\":\"scattergl\",\"marker\":{\"colorbar\":{\"outlinewidth\":0,\"ticks\":\"\"}}}],\"scatter3d\":[{\"type\":\"scatter3d\",\"line\":{\"colorbar\":{\"outlinewidth\":0,\"ticks\":\"\"}},\"marker\":{\"colorbar\":{\"outlinewidth\":0,\"ticks\":\"\"}}}],\"scattermapbox\":[{\"type\":\"scattermapbox\",\"marker\":{\"colorbar\":{\"outlinewidth\":0,\"ticks\":\"\"}}}],\"scatterternary\":[{\"type\":\"scatterternary\",\"marker\":{\"colorbar\":{\"outlinewidth\":0,\"ticks\":\"\"}}}],\"scattercarpet\":[{\"type\":\"scattercarpet\",\"marker\":{\"colorbar\":{\"outlinewidth\":0,\"ticks\":\"\"}}}],\"carpet\":[{\"aaxis\":{\"endlinecolor\":\"#2a3f5f\",\"gridcolor\":\"white\",\"linecolor\":\"white\",\"minorgridcolor\":\"white\",\"startlinecolor\":\"#2a3f5f\"},\"baxis\":{\"endlinecolor\":\"#2a3f5f\",\"gridcolor\":\"white\",\"linecolor\":\"white\",\"minorgridcolor\":\"white\",\"startlinecolor\":\"#2a3f5f\"},\"type\":\"carpet\"}],\"table\":[{\"cells\":{\"fill\":{\"color\":\"#EBF0F8\"},\"line\":{\"color\":\"white\"}},\"header\":{\"fill\":{\"color\":\"#C8D4E3\"},\"line\":{\"color\":\"white\"}},\"type\":\"table\"}],\"barpolar\":[{\"marker\":{\"line\":{\"color\":\"#E5ECF6\",\"width\":0.5},\"pattern\":{\"fillmode\":\"overlay\",\"size\":10,\"solidity\":0.2}},\"type\":\"barpolar\"}],\"pie\":[{\"automargin\":true,\"type\":\"pie\"}]},\"layout\":{\"autotypenumbers\":\"strict\",\"colorway\":[\"#636efa\",\"#EF553B\",\"#00cc96\",\"#ab63fa\",\"#FFA15A\",\"#19d3f3\",\"#FF6692\",\"#B6E880\",\"#FF97FF\",\"#FECB52\"],\"font\":{\"color\":\"#2a3f5f\"},\"hovermode\":\"closest\",\"hoverlabel\":{\"align\":\"left\"},\"paper_bgcolor\":\"white\",\"plot_bgcolor\":\"#E5ECF6\",\"polar\":{\"bgcolor\":\"#E5ECF6\",\"angularaxis\":{\"gridcolor\":\"white\",\"linecolor\":\"white\",\"ticks\":\"\"},\"radialaxis\":{\"gridcolor\":\"white\",\"linecolor\":\"white\",\"ticks\":\"\"}},\"ternary\":{\"bgcolor\":\"#E5ECF6\",\"aaxis\":{\"gridcolor\":\"white\",\"linecolor\":\"white\",\"ticks\":\"\"},\"baxis\":{\"gridcolor\":\"white\",\"linecolor\":\"white\",\"ticks\":\"\"},\"caxis\":{\"gridcolor\":\"white\",\"linecolor\":\"white\",\"ticks\":\"\"}},\"coloraxis\":{\"colorbar\":{\"outlinewidth\":0,\"ticks\":\"\"}},\"colorscale\":{\"sequential\":[[0.0,\"#0d0887\"],[0.1111111111111111,\"#46039f\"],[0.2222222222222222,\"#7201a8\"],[0.3333333333333333,\"#9c179e\"],[0.4444444444444444,\"#bd3786\"],[0.5555555555555556,\"#d8576b\"],[0.6666666666666666,\"#ed7953\"],[0.7777777777777778,\"#fb9f3a\"],[0.8888888888888888,\"#fdca26\"],[1.0,\"#f0f921\"]],\"sequentialminus\":[[0.0,\"#0d0887\"],[0.1111111111111111,\"#46039f\"],[0.2222222222222222,\"#7201a8\"],[0.3333333333333333,\"#9c179e\"],[0.4444444444444444,\"#bd3786\"],[0.5555555555555556,\"#d8576b\"],[0.6666666666666666,\"#ed7953\"],[0.7777777777777778,\"#fb9f3a\"],[0.8888888888888888,\"#fdca26\"],[1.0,\"#f0f921\"]],\"diverging\":[[0,\"#8e0152\"],[0.1,\"#c51b7d\"],[0.2,\"#de77ae\"],[0.3,\"#f1b6da\"],[0.4,\"#fde0ef\"],[0.5,\"#f7f7f7\"],[0.6,\"#e6f5d0\"],[0.7,\"#b8e186\"],[0.8,\"#7fbc41\"],[0.9,\"#4d9221\"],[1,\"#276419\"]]},\"xaxis\":{\"gridcolor\":\"white\",\"linecolor\":\"white\",\"ticks\":\"\",\"title\":{\"standoff\":15},\"zerolinecolor\":\"white\",\"automargin\":true,\"zerolinewidth\":2},\"yaxis\":{\"gridcolor\":\"white\",\"linecolor\":\"white\",\"ticks\":\"\",\"title\":{\"standoff\":15},\"zerolinecolor\":\"white\",\"automargin\":true,\"zerolinewidth\":2},\"scene\":{\"xaxis\":{\"backgroundcolor\":\"#E5ECF6\",\"gridcolor\":\"white\",\"linecolor\":\"white\",\"showbackground\":true,\"ticks\":\"\",\"zerolinecolor\":\"white\",\"gridwidth\":2},\"yaxis\":{\"backgroundcolor\":\"#E5ECF6\",\"gridcolor\":\"white\",\"linecolor\":\"white\",\"showbackground\":true,\"ticks\":\"\",\"zerolinecolor\":\"white\",\"gridwidth\":2},\"zaxis\":{\"backgroundcolor\":\"#E5ECF6\",\"gridcolor\":\"white\",\"linecolor\":\"white\",\"showbackground\":true,\"ticks\":\"\",\"zerolinecolor\":\"white\",\"gridwidth\":2}},\"shapedefaults\":{\"line\":{\"color\":\"#2a3f5f\"}},\"annotationdefaults\":{\"arrowcolor\":\"#2a3f5f\",\"arrowhead\":0,\"arrowwidth\":1},\"geo\":{\"bgcolor\":\"white\",\"landcolor\":\"#E5ECF6\",\"subunitcolor\":\"white\",\"showland\":true,\"showlakes\":true,\"lakecolor\":\"white\"},\"title\":{\"x\":0.05},\"mapbox\":{\"style\":\"light\"}}},\"xaxis\":{\"anchor\":\"y\",\"domain\":[0.0,1.0],\"title\":{\"text\":\"x\"}},\"yaxis\":{\"anchor\":\"x\",\"domain\":[0.0,1.0],\"title\":{\"text\":\"y\"}},\"legend\":{\"tracegroupgap\":0},\"margin\":{\"t\":60}},                        {\"responsive\": true}                    ).then(function(){\n",
       "                            \n",
       "var gd = document.getElementById('4f6987b0-dea3-4597-b1f9-c19f05a9168e');\n",
       "var x = new MutationObserver(function (mutations, observer) {{\n",
       "        var display = window.getComputedStyle(gd).display;\n",
       "        if (!display || display === 'none') {{\n",
       "            console.log([gd, 'removed!']);\n",
       "            Plotly.purge(gd);\n",
       "            observer.disconnect();\n",
       "        }}\n",
       "}});\n",
       "\n",
       "// Listen for the removal of the full notebook cells\n",
       "var notebookContainer = gd.closest('#notebook-container');\n",
       "if (notebookContainer) {{\n",
       "    x.observe(notebookContainer, {childList: true});\n",
       "}}\n",
       "\n",
       "// Listen for the clearing of the current output cell\n",
       "var outputEl = gd.closest('.output');\n",
       "if (outputEl) {{\n",
       "    x.observe(outputEl, {childList: true});\n",
       "}}\n",
       "\n",
       "                        })                };                });            </script>        </div>"
      ]
     },
     "metadata": {},
     "output_type": "display_data"
    }
   ],
   "source": [
    "fig1 = px.scatter(processed_data, x='x',y='y', hover_name='Title')\n",
    "fig1.show()"
   ]
  },
  {
   "cell_type": "code",
   "execution_count": null,
   "metadata": {},
   "outputs": [],
   "source": []
  }
 ],
 "metadata": {
  "kernelspec": {
   "display_name": "Python 3",
   "language": "python",
   "name": "python3"
  },
  "language_info": {
   "codemirror_mode": {
    "name": "ipython",
    "version": 3
   },
   "file_extension": ".py",
   "mimetype": "text/x-python",
   "name": "python",
   "nbconvert_exporter": "python",
   "pygments_lexer": "ipython3",
   "version": "3.10.13"
  }
 },
 "nbformat": 4,
 "nbformat_minor": 2
}
